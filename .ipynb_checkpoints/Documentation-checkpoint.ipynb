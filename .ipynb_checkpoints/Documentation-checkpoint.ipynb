{
 "cells": [
  {
   "cell_type": "code",
   "execution_count": 1,
   "id": "c10a9571",
   "metadata": {},
   "outputs": [],
   "source": [
    "import numpy as np\n",
    "import scipy.linalg as la"
   ]
  },
  {
   "cell_type": "code",
   "execution_count": 72,
   "id": "8614d233",
   "metadata": {},
   "outputs": [],
   "source": [
    "Z = np.matrix([[1j,0,-1j],\n",
    "              [0,1,-1-4j],\n",
    "              [2-1j,1j,3]])\n",
    "\n",
    "# Z = np.matrix([[2019j,3,2+1j],\n",
    "#                [1708+1j,2839,0],\n",
    "#                [1910+1j,1j,0]])"
   ]
  },
  {
   "cell_type": "code",
   "execution_count": 73,
   "id": "886fec7a",
   "metadata": {},
   "outputs": [],
   "source": [
    "def diagonalize(A):\n",
    "    eigenvalues, eigenvectors = la.eig(A)\n",
    "    \n",
    "    return(np.diag(eigenvalues), np.matrix(eigenvectors))\n",
    "\n",
    "def bipolar(Z):\n",
    "    # check if Z is nonsingular matrix\n",
    "    if abs(la.det(Z)) < 1e-5:\n",
    "        raise NameError(\"The matrix is singular. Can't use bipolar decomposition.\")\n",
    "\n",
    "    # calculate A#conj(A), where A = Z*Z\n",
    "    # find S such that A#conj(A) = e^{2S}\n",
    "    # since A#conj(A) is orthogonally diagonalizable, then A#conj(A) = PDP'\n",
    "    # so, we get S = 1/2 log(PDP')\n",
    "    A = Z.getH() * Z\n",
    "    A_Aconj = A * la.sqrtm(la.inv(A) * np.conj(A))\n",
    "    D, P = diagonalize(A_Aconj)\n",
    "    S = np.real(1/2 * P * la.logm(D) * P.getT())\n",
    "    \n",
    "    # calculate Y = e^{-S}Ae^{-S} dan find K such that Y = e^{2iK}\n",
    "    # since Y is unitarilly diagonalizable, then Y = UDU*\n",
    "    # so, we get iK = 1/2 log(UDU*)\n",
    "    Y = la.expm(-S) * A * la.expm(-S)\n",
    "    D, U = diagonalize(Y)\n",
    "    K = np.imag(1/2 * U * la.logm(D) * U.getH())\n",
    "\n",
    "    # calculate W\n",
    "    # calculate W'W dan find T such that W'W = e^{2iT}\n",
    "    # since W'W is unitarilly diagonalizable, then W'W = UDU*\n",
    "    # so, we get iT = 1/2 log(UDU*)\n",
    "    W = Z * la.expm(-S) * la.expm(-1j * K)\n",
    "    Wtrans_W = W.getT() * W\n",
    "    D, U = diagonalize(Wtrans_W)\n",
    "    T = np.imag(1/2 * U * la.logm(D) * U.getH())\n",
    "    \n",
    "    # calculate Q = We^{-iT}\n",
    "    # if det(Q) = 1, find L such that Q = e^L\n",
    "    # if det(Q) = -1, we need further steps to find L\n",
    "    Q = np.real(W * la.expm(-1j * T))\n",
    "    if la.det(Q) > 0:\n",
    "        D, P = diagonalize(Q)\n",
    "        L = P * la.logm(D) * P.getT()\n",
    "    else:\n",
    "        # first, diagonalize T\n",
    "        D, G = diagonalize(T)\n",
    "        \n",
    "        # calculate X = GDG', where D = diag(pi,0,...,0)\n",
    "        # calculate J = e^{iX}\n",
    "        D = np.diag([0 for i in range(Z.shape[0])])\n",
    "        D[0] = np.pi\n",
    "        X = G * D * G.getT()\n",
    "        J = la.expm(1j * X)\n",
    "        \n",
    "        # calculate QJ and find L such that QJ = e^L\n",
    "        # relabel T = X + T\n",
    "        QJ = np.real(Q * J)\n",
    "        D, P = diagonalize(QJ)\n",
    "        L = P * la.logm(D) * P.getT()\n",
    "        T = X + T\n",
    "        \n",
    "    return(L, T, K, S)"
   ]
  },
  {
   "cell_type": "code",
   "execution_count": 74,
   "id": "a7506800",
   "metadata": {},
   "outputs": [],
   "source": [
    "L,T,K,S = bipolar(Z)"
   ]
  },
  {
   "cell_type": "code",
   "execution_count": 75,
   "id": "98fe9960",
   "metadata": {},
   "outputs": [
    {
     "data": {
      "text/plain": [
       "array([[ 2.98095412e+00+5.31692113e-01j,  1.00812618e-04+6.62126775e-04j,\n",
       "        -1.38008734e-01+1.10333698e-01j],\n",
       "       [-2.22300527e-04-6.31789147e-04j,  1.86484120e+00+6.26009191e-01j,\n",
       "        -8.89953460e-03-9.08496413e-03j],\n",
       "       [-6.75973232e-02+1.63249923e-01j,  9.44201854e-03+8.51977554e-03j,\n",
       "         1.10105808e+00+1.87321561e+00j]])"
      ]
     },
     "execution_count": 75,
     "metadata": {},
     "output_type": "execute_result"
    }
   ],
   "source": [
    "la.expm(L) * la.expm(1j * T) * la.expm(1j * K) * la.expm(S)"
   ]
  },
  {
   "cell_type": "code",
   "execution_count": 53,
   "id": "91cf55ed",
   "metadata": {},
   "outputs": [
    {
     "data": {
      "text/plain": [
       "2"
      ]
     },
     "execution_count": 53,
     "metadata": {},
     "output_type": "execute_result"
    }
   ],
   "source": [
    "D = np.matrix([[1,0],\n",
    "               [0,1]])\n",
    "D.shape[0]"
   ]
  }
 ],
 "metadata": {
  "kernelspec": {
   "display_name": "Python 3 (ipykernel)",
   "language": "python",
   "name": "python3"
  },
  "language_info": {
   "codemirror_mode": {
    "name": "ipython",
    "version": 3
   },
   "file_extension": ".py",
   "mimetype": "text/x-python",
   "name": "python",
   "nbconvert_exporter": "python",
   "pygments_lexer": "ipython3",
   "version": "3.9.7"
  }
 },
 "nbformat": 4,
 "nbformat_minor": 5
}
