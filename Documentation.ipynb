{
 "cells": [
  {
   "cell_type": "markdown",
   "id": "39d48c6c",
   "metadata": {},
   "source": [
    "Hi! This page will show you some examples on how to use the Bipolar Decomposition. You don't need to install the library using `pip` or anything since it's not registered on pypi, but make sure the `bipolar_decomposition.py` file is in the same folder with the code you want to call. Well..you can say that this is a local library.\n",
    "\n",
    "Okay, so let's get started!\n",
    "\n",
    "First, let's import some libraries we need."
   ]
  },
  {
   "cell_type": "code",
   "execution_count": 1,
   "id": "c10a9571",
   "metadata": {},
   "outputs": [],
   "source": [
    "import numpy as np\n",
    "import scipy.linalg as la\n",
    "import bipolar_decomposition as bd"
   ]
  },
  {
   "cell_type": "markdown",
   "id": "ae2cc884",
   "metadata": {},
   "source": [
    "Basically, we only need two libraries, `numpy` and of course `bipolar_decomposition`. `numpy` is used to create the matrix you want to decompose, while `bipolar_decomposition` to decompose your matrix of course. `scipy.linalg` is used to exponentiate the matrix to check our results. Since the Bipolar Decomposition might be used under other program, \"maybe\" `scipy.linalg` will be needed.\n",
    "\n",
    "Next, let's create a sample matrix."
   ]
  },
  {
   "cell_type": "code",
   "execution_count": 2,
   "id": "8614d233",
   "metadata": {},
   "outputs": [],
   "source": [
    "Z = np.matrix([[1j,0,-1j],\n",
    "               [0,1,-1-4j],\n",
    "               [2-1j,1j,3]])"
   ]
  },
  {
   "cell_type": "markdown",
   "id": "4b166012",
   "metadata": {},
   "source": [
    "`bipolar_decomposition` uses `numpy.matrix` as its main data structure. It's because we can multiply the matrices by using the usual multiplication operators (\\*) rather than matrix multiplication operators in `numpy.array` (@) which is not so familiar to read. Also, we can do conjugate transpose easily using `numpy.matrix`.\n",
    "\n",
    "Next, let's decompose our matrix."
   ]
  },
  {
   "cell_type": "code",
   "execution_count": 3,
   "id": "5b9b6025",
   "metadata": {},
   "outputs": [],
   "source": [
    "L,T,K,S = bd.bipolar(Z)"
   ]
  },
  {
   "cell_type": "code",
   "execution_count": 4,
   "id": "e636b8d2",
   "metadata": {},
   "outputs": [
    {
     "data": {
      "text/plain": [
       "matrix([[ 7.24223580e-12, -6.87599579e-01, -6.51877438e-01],\n",
       "        [ 6.87599579e-01,  7.74021480e-12, -5.56829653e-01],\n",
       "        [ 6.51877438e-01,  5.56829653e-01,  7.43515883e-12]])"
      ]
     },
     "execution_count": 4,
     "metadata": {},
     "output_type": "execute_result"
    }
   ],
   "source": [
    "L"
   ]
  },
  {
   "cell_type": "code",
   "execution_count": 5,
   "id": "9368dc46",
   "metadata": {},
   "outputs": [
    {
     "data": {
      "text/plain": [
       "matrix([[ 0.26200499, -0.12762701, -0.71432666],\n",
       "        [-0.12762701,  0.35504189,  0.42484587],\n",
       "        [-0.71432666,  0.42484587,  0.95374945]])"
      ]
     },
     "execution_count": 5,
     "metadata": {},
     "output_type": "execute_result"
    }
   ],
   "source": [
    "T"
   ]
  },
  {
   "cell_type": "code",
   "execution_count": 6,
   "id": "6e803310",
   "metadata": {},
   "outputs": [
    {
     "data": {
      "text/plain": [
       "matrix([[ 3.41221334e-12,  8.56138793e-01,  1.33086546e-01],\n",
       "        [-8.56138793e-01, -1.58962279e-11, -1.49444191e+00],\n",
       "        [-1.33086545e-01,  1.49444191e+00,  1.24904225e-11]])"
      ]
     },
     "execution_count": 6,
     "metadata": {},
     "output_type": "execute_result"
    }
   ],
   "source": [
    "K"
   ]
  },
  {
   "cell_type": "code",
   "execution_count": 7,
   "id": "de1d3452",
   "metadata": {},
   "outputs": [
    {
     "data": {
      "text/plain": [
       "matrix([[ 0.52417654, -0.01319968, -0.33864507],\n",
       "        [-0.01319968, -1.04365904, -0.07979849],\n",
       "        [-0.33864507, -0.07979849,  0.5194825 ]])"
      ]
     },
     "execution_count": 7,
     "metadata": {},
     "output_type": "execute_result"
    }
   ],
   "source": [
    "S"
   ]
  },
  {
   "cell_type": "markdown",
   "id": "51ac8952",
   "metadata": {},
   "source": [
    "It's easy right? If you want to check whether the result is correct, let's multiply them."
   ]
  },
  {
   "cell_type": "code",
   "execution_count": 8,
   "id": "15e02593",
   "metadata": {},
   "outputs": [
    {
     "data": {
      "text/plain": [
       "array([[ 5.24254686e-12+1.00000000e+00j, -5.24165856e-12+4.33356476e-12j,\n",
       "         1.73343347e-11-1.00000000e+00j],\n",
       "       [ 7.86709586e-12+7.06612546e-12j,  1.00000000e+00+9.71445147e-16j,\n",
       "        -1.00000000e+00-4.00000000e+00j],\n",
       "       [ 2.00000000e+00-1.00000000e+00j, -1.22124533e-15+1.00000000e+00j,\n",
       "         3.00000000e+00+3.53969631e-12j]])"
      ]
     },
     "execution_count": 8,
     "metadata": {},
     "output_type": "execute_result"
    }
   ],
   "source": [
    "la.expm(L) @ la.expm(1j * T) @ la.expm(1j * K) @ la.expm(S)"
   ]
  },
  {
   "cell_type": "markdown",
   "id": "19be653d",
   "metadata": {},
   "source": [
    "Wait! I know what you're thinking. In the end, we use (@) operators to multiply those matrices. Well..it's too bad that `scipy.linalg.expm` will give a `numpy.array` as the output. So, we don't have any choice but to use (@).\n",
    "\n",
    "Well..I think that's all on how to use the `bipolar_decomposition`. To make you certain, I will give you another example since there are two cases where $\\det{Q}=-1$ (if you have read the paper)."
   ]
  },
  {
   "cell_type": "code",
   "execution_count": 9,
   "id": "8e842726",
   "metadata": {},
   "outputs": [],
   "source": [
    "Z = np.matrix([[2019j,3,2+1j],\n",
    "               [1708+1j,2839,0],\n",
    "               [1910+1j,1j,0]])"
   ]
  },
  {
   "cell_type": "code",
   "execution_count": 10,
   "id": "1ee1b5f1",
   "metadata": {},
   "outputs": [],
   "source": [
    "L,T,K,S = bd.bipolar(Z)"
   ]
  },
  {
   "cell_type": "code",
   "execution_count": 11,
   "id": "886fec7a",
   "metadata": {},
   "outputs": [
    {
     "data": {
      "text/plain": [
       "matrix([[-1.67322258e-12, -4.91208821e-02, -2.90200863e+00],\n",
       "        [ 4.91208821e-02, -1.40041070e-13,  4.63268036e-01],\n",
       "        [ 2.90200863e+00, -4.63268036e-01,  1.87648392e-12]])"
      ]
     },
     "execution_count": 11,
     "metadata": {},
     "output_type": "execute_result"
    }
   ],
   "source": [
    "L"
   ]
  },
  {
   "cell_type": "code",
   "execution_count": 12,
   "id": "8e48a9f6",
   "metadata": {
    "scrolled": false
   },
   "outputs": [
    {
     "data": {
      "text/plain": [
       "matrix([[ 1.68552843, -0.55020943,  1.90239293],\n",
       "        [-0.55020943,  0.17960386, -0.62208703],\n",
       "        [ 1.90239293, -0.62208703,  1.74031655]])"
      ]
     },
     "execution_count": 12,
     "metadata": {},
     "output_type": "execute_result"
    }
   ],
   "source": [
    "T"
   ]
  },
  {
   "cell_type": "code",
   "execution_count": 13,
   "id": "fcf344bb",
   "metadata": {},
   "outputs": [
    {
     "data": {
      "text/plain": [
       "matrix([[-2.86043271e-14, -4.90970726e-04, -4.00279654e-01],\n",
       "        [ 4.90970727e-04, -2.67847438e-14,  1.31401332e-01],\n",
       "        [ 4.00279654e-01, -1.31401332e-01,  5.53114191e-14]])"
      ]
     },
     "execution_count": 13,
     "metadata": {},
     "output_type": "execute_result"
    }
   ],
   "source": [
    "K"
   ]
  },
  {
   "cell_type": "code",
   "execution_count": 14,
   "id": "086ea89d",
   "metadata": {},
   "outputs": [
    {
     "data": {
      "text/plain": [
       "matrix([[ 7.87691637e+00,  3.34883039e-01,  1.84898399e-03],\n",
       "        [ 3.34883039e-01,  7.84447525e+00, -1.04795075e-03],\n",
       "        [ 1.84898399e-03, -1.04795075e-03,  5.89393224e-01]])"
      ]
     },
     "execution_count": 14,
     "metadata": {},
     "output_type": "execute_result"
    }
   ],
   "source": [
    "S"
   ]
  },
  {
   "cell_type": "code",
   "execution_count": 15,
   "id": "0378cac8",
   "metadata": {},
   "outputs": [
    {
     "data": {
      "text/plain": [
       "array([[2.80575563e-12+2.01900000e+03j, 3.00000000e+00+1.25631769e-10j,\n",
       "        2.00000000e+00+1.00000000e+00j],\n",
       "       [1.70800000e+03+1.00000000e+00j, 2.83900000e+03-1.14954263e-14j,\n",
       "        4.37319451e-14-8.98349320e-14j],\n",
       "       [1.91000000e+03+1.00000000e+00j, 2.69027856e-13+1.00000000e+00j,\n",
       "        9.95870053e-14-2.04770649e-13j]])"
      ]
     },
     "execution_count": 15,
     "metadata": {},
     "output_type": "execute_result"
    }
   ],
   "source": [
    "la.expm(L) @ la.expm(1j * T) @ la.expm(1j * K) @ la.expm(S)"
   ]
  },
  {
   "cell_type": "markdown",
   "id": "3b370a0e",
   "metadata": {},
   "source": [
    "Based on the paper, you can decompose any size of complex matrix (as long as it's a square matrix)."
   ]
  },
  {
   "cell_type": "code",
   "execution_count": 16,
   "id": "76e19845",
   "metadata": {},
   "outputs": [],
   "source": [
    "Z = np.matrix([[2019j,3,2+1j,1708+1j],\n",
    "               [2839,0,1910+1j,1j],\n",
    "               [0,1890j,0,919],\n",
    "               [3+3j,21+12j,2018,0]])"
   ]
  },
  {
   "cell_type": "code",
   "execution_count": 17,
   "id": "c3a44571",
   "metadata": {},
   "outputs": [],
   "source": [
    "L,T,K,S = bd.bipolar(Z)"
   ]
  },
  {
   "cell_type": "code",
   "execution_count": 18,
   "id": "7978e272",
   "metadata": {},
   "outputs": [
    {
     "data": {
      "text/plain": [
       "matrix([[ 1.22124533e-15, -5.75450896e-01, -8.61101446e-01,\n",
       "          1.44521372e+00],\n",
       "        [ 5.75450896e-01, -5.82867088e-16,  1.35484227e+00,\n",
       "         -5.90443650e-01],\n",
       "        [ 8.61101446e-01, -1.35484227e+00,  6.52256027e-16,\n",
       "         -7.48745057e-01],\n",
       "        [-1.44521372e+00,  5.90443650e-01,  7.48745057e-01,\n",
       "          6.10622664e-15]])"
      ]
     },
     "execution_count": 18,
     "metadata": {},
     "output_type": "execute_result"
    }
   ],
   "source": [
    "L"
   ]
  },
  {
   "cell_type": "code",
   "execution_count": 19,
   "id": "e315c061",
   "metadata": {},
   "outputs": [
    {
     "data": {
      "text/plain": [
       "matrix([[-4.70983074e-02,  2.62306346e-01,  1.28849066e-02,\n",
       "          3.67703740e-01],\n",
       "        [ 2.62306346e-01, -1.52251449e+00, -6.29733349e-02,\n",
       "          6.98792361e-02],\n",
       "        [ 1.28849066e-02, -6.29733349e-02, -3.56863262e-03,\n",
       "         -1.37348256e-01],\n",
       "        [ 3.67703740e-01,  6.98792361e-02, -1.37348256e-01,\n",
       "          5.08071651e-04]])"
      ]
     },
     "execution_count": 19,
     "metadata": {},
     "output_type": "execute_result"
    }
   ],
   "source": [
    "T"
   ]
  },
  {
   "cell_type": "code",
   "execution_count": 20,
   "id": "9272e997",
   "metadata": {},
   "outputs": [
    {
     "data": {
      "text/plain": [
       "matrix([[-3.73972999e-18, -1.47634099e-03, -6.74107277e-04,\n",
       "         -3.80360502e-01],\n",
       "        [ 1.47634099e-03,  4.46420245e-17, -3.27299104e-03,\n",
       "         -3.24918335e-01],\n",
       "        [ 6.74107277e-04,  3.27299104e-03, -4.26091454e-17,\n",
       "          1.48119983e-01],\n",
       "        [ 3.80360502e-01,  3.24918335e-01, -1.48119983e-01,\n",
       "          3.40652663e-18]])"
      ]
     },
     "execution_count": 20,
     "metadata": {},
     "output_type": "execute_result"
    }
   ],
   "source": [
    "K"
   ]
  },
  {
   "cell_type": "code",
   "execution_count": 21,
   "id": "61c1769e",
   "metadata": {},
   "outputs": [
    {
     "data": {
      "text/plain": [
       "matrix([[ 7.95422850e+00, -1.02820274e-01,  3.59702571e-01,\n",
       "          4.04541626e-04],\n",
       "        [-1.02820274e-01,  7.45504013e+00,  4.76605986e-02,\n",
       "         -1.99226342e-04],\n",
       "        [ 3.59702571e-01,  4.76605986e-02,  7.79801698e+00,\n",
       "         -8.32437939e-04],\n",
       "        [ 4.04541626e-04, -1.99226342e-04, -8.32437939e-04,\n",
       "          7.33658702e+00]])"
      ]
     },
     "execution_count": 21,
     "metadata": {},
     "output_type": "execute_result"
    }
   ],
   "source": [
    "S"
   ]
  },
  {
   "cell_type": "code",
   "execution_count": 22,
   "id": "3694d4c8",
   "metadata": {},
   "outputs": [
    {
     "data": {
      "text/plain": [
       "array([[ 2.10609308e-13+2.01900000e+03j,  3.00000000e+00-1.54573004e-12j,\n",
       "         2.00000000e+00+1.00000000e+00j,  1.70800000e+03+1.00000000e+00j],\n",
       "       [ 2.83900000e+03-4.26375894e-13j, -4.53580610e-12+3.16186270e-12j,\n",
       "         1.91000000e+03+1.00000000e+00j,  1.19720900e-12+1.00000000e+00j],\n",
       "       [-1.92235117e-12-3.35103581e-12j,  4.40936176e-12+1.89000000e+03j,\n",
       "        -3.98181488e-12-4.44610483e-12j,  9.19000000e+02-1.18299814e-12j],\n",
       "       [ 3.00000000e+00+3.00000000e+00j,  2.10000000e+01+1.20000000e+01j,\n",
       "         2.01800000e+03-2.42891691e-13j, -1.28275168e-12-3.87882955e-12j]])"
      ]
     },
     "execution_count": 22,
     "metadata": {},
     "output_type": "execute_result"
    }
   ],
   "source": [
    "la.expm(L) @ la.expm(1j * T) @ la.expm(1j * K) @ la.expm(S)"
   ]
  }
 ],
 "metadata": {
  "kernelspec": {
   "display_name": "Python 3 (ipykernel)",
   "language": "python",
   "name": "python3"
  },
  "language_info": {
   "codemirror_mode": {
    "name": "ipython",
    "version": 3
   },
   "file_extension": ".py",
   "mimetype": "text/x-python",
   "name": "python",
   "nbconvert_exporter": "python",
   "pygments_lexer": "ipython3",
   "version": "3.9.7"
  }
 },
 "nbformat": 4,
 "nbformat_minor": 5
}
