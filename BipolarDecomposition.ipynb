{
 "cells": [
  {
   "cell_type": "code",
   "execution_count": 5,
   "id": "c10a9571",
   "metadata": {},
   "outputs": [],
   "source": [
    "import numpy as np\n",
    "import scipy.linalg as la"
   ]
  },
  {
   "cell_type": "code",
   "execution_count": 29,
   "id": "8614d233",
   "metadata": {},
   "outputs": [
    {
     "name": "stdout",
     "output_type": "stream",
     "text": [
      "[[ 4.69042325e-17  1.69637796e+00  1.89121496e-01]\n",
      " [-1.69637796e+00  5.63748213e-17 -1.52938687e+00]\n",
      " [-1.89121496e-01  1.52938687e+00  2.95826891e-17]]\n",
      "[[ 1.20130503e-15  1.71227759e+00  2.66173091e-01]\n",
      " [-1.71227759e+00  8.90403880e-16 -2.98888382e+00]\n",
      " [-2.66173091e-01  2.98888382e+00  9.92075543e-16]]\n"
     ]
    }
   ],
   "source": [
    "def diagonalize(A):\n",
    "    eigenvalues, eigenvectors = la.eig(A)\n",
    "    \n",
    "    return(np.diag(eigenvalues), np.matrix(eigenvectors))\n",
    "\n",
    "Z = np.matrix([[1j,0,-1j],\n",
    "              [0,1,-1-4j],\n",
    "              [2-1j,1j,3]])\n",
    "\n",
    "# calculate A#conj(A), where A = Z^HZ\n",
    "A = Z.getH() * Z\n",
    "A_Aconj = A * la.sqrtm(la.inv(A) * np.conj(A))\n",
    "\n",
    "# find S such that A#conj(A) = e^{2S}\n",
    "# since A#conj(A) is orthogonally diagonalizable, then A#conj(A) = PDP'\n",
    "# so, we get S = 1/2 * log(PDP')\n",
    "D, P = diagonalize(A_Aconj)\n",
    "S = np.real(1/2 * P * la.logm(D) * P.getT())\n",
    "\n",
    "# calculate Y = e^{-S}Ae^{-S} dan find K such that Y = e^{iK}\n",
    "# since Y is unitarilly diagonalizable, then Y = UDU*\n",
    "# so, we get iK = log(UDU*)\n",
    "Y = la.expm(-S) * A * la.expm(-S)\n",
    "K1 = np.angle(Y)\n",
    "D, U = diagonalize(Y)\n",
    "K2 = np.imag(U * la.logm(D) * U.getH())\n",
    "print(K1)\n",
    "print(K2)"
   ]
  },
  {
   "cell_type": "code",
   "execution_count": 19,
   "id": "a833e71b",
   "metadata": {},
   "outputs": [
    {
     "data": {
      "text/plain": [
       "matrix([[ 0.    ,  1.7113,  0.267 ],\n",
       "        [-1.7113,  0.    , -2.988 ],\n",
       "        [-0.267 ,  2.988 ,  0.    ]])"
      ]
     },
     "execution_count": 19,
     "metadata": {},
     "output_type": "execute_result"
    }
   ],
   "source": [
    "Z = np.matrix([[0,1.7113j,0.267j],\n",
    "               [-1.7113j,0,-2.988j],\n",
    "               [-0.267j,2.988j,0]])\n",
    "np.imag(Z)"
   ]
  },
  {
   "cell_type": "code",
   "execution_count": null,
   "id": "886fec7a",
   "metadata": {},
   "outputs": [],
   "source": [
    "def diagonalize(A):\n",
    "    eigenvalues, eigenvectors = la.eig(A)\n",
    "    \n",
    "    return(np.diag(eigenvalues), np.matrix(eigenvectors))\n",
    "\n",
    "def bipolar(Z):\n",
    "    # check if Z is nonsingular matrix\n",
    "    if abs(la.det(Z)) < 1e-5:\n",
    "        raise NameError(\"The matrix is singular. Can't use bipolar decomposition.\")\n",
    "\n",
    "    # calculate A#conj(A), where A = Z^HZ\n",
    "    A = Z.getH() * Z\n",
    "    A_Aconj = A * la.sqrtm(la.inv(A) * np.conj(A))\n",
    "    \n",
    "    # find S such that A#conj(A) = e^{2S}\n",
    "    # since A#conj(A) is orthogonally diagonalizable, then A#conj(A) = PDP'\n",
    "    # so, we get S = 1/2 * log(PDP')\n",
    "    D, P = diagonalize(A_Aconj)\n",
    "    S = np.real(1/2 * P * la.logm(D) * P.getT())\n",
    "    \n",
    "    # calculate Y = e^{-S}Ae^{-S} dan find K such that Y = e^{iK}\n",
    "    # since Y is unitarilly diagonalizable, then Y = UDU*\n",
    "    # so, we get iK = log(UDU*)\n",
    "    Y = la.expm(-S) * A * la.expm(-S)\n",
    "    K = np.angle(Y)\n",
    "    # D, U = diagonalize(Y)\n",
    "    # K = np.imag(U * la.logm(D) * U.getH())\n",
    "\n",
    "    # calculate W\n",
    "    K = 1/2 * K\n",
    "    W = Z * la.expm(-S) * la.expm(-1j * K)\n",
    "    \n",
    "    # calculate W'W dan find T such that W'W = e^{2iT}\n",
    "    # since W'W is unitarilly diagonalizable, then W'W = UDU*\n",
    "    # so, we get iT = 1/2 * log(UDU*)\n",
    "    Wtrans_W = W.getT() * W\n",
    "    D, U = diagonalize(Wtrans_W)\n",
    "    Q4=matrix(Q4)\n",
    "    newD4=diag(angle(D4))\n",
    "    M=Q4*newD4*Q4.getH()\n",
    "    C1=0.5*M"
   ]
  }
 ],
 "metadata": {
  "kernelspec": {
   "display_name": "Python 3 (ipykernel)",
   "language": "python",
   "name": "python3"
  },
  "language_info": {
   "codemirror_mode": {
    "name": "ipython",
    "version": 3
   },
   "file_extension": ".py",
   "mimetype": "text/x-python",
   "name": "python",
   "nbconvert_exporter": "python",
   "pygments_lexer": "ipython3",
   "version": "3.9.7"
  }
 },
 "nbformat": 4,
 "nbformat_minor": 5
}
